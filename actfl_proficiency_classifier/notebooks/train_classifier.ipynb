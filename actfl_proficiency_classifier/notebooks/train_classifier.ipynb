{
 "cells": [
  {
   "cell_type": "code",
   "execution_count": 1,
   "metadata": {},
   "outputs": [],
   "source": [
    "import os"
   ]
  },
  {
   "cell_type": "code",
   "execution_count": 5,
   "metadata": {},
   "outputs": [],
   "source": [
    "# Function to load data from dir structure\n",
    "def loadDataFromDir(rootDir):\n",
    "    data = {'text': [], 'label': []}\n",
    "    labels = os.listdir(rootDir)\n",
    "\n",
    "    for label in labels:\n",
    "        label_path = os.path.join(rootDir, label)\n",
    "        if os.path.isdir(label_path):\n",
    "            files = os.listdir(label_path)\n",
    "            for file in files:\n",
    "                file_path = os.path.join(label_path, file)\n",
    "                if \"item\" not in file_path.split(\"/\")[-1]: continue\n",
    "                if os.path.isfile(file_path):\n",
    "                    with open(file_path, 'r', encoding='utf-8') as f:\n",
    "                        text = f.read()\n",
    "                        data['text'].append(text)\n",
    "                        data['label'].append(label.split(\" \")[0])\n",
    "\n",
    "    return data\n",
    "\n",
    "# Load data from your folder structure\n",
    "rootDir = '../data/guideline_data'\n",
    "dataset = loadDataFromDir(rootDir)"
   ]
  }
 ],
 "metadata": {
  "kernelspec": {
   "display_name": "Python 3",
   "language": "python",
   "name": "python3"
  },
  "language_info": {
   "codemirror_mode": {
    "name": "ipython",
    "version": 3
   },
   "file_extension": ".py",
   "mimetype": "text/x-python",
   "name": "python",
   "nbconvert_exporter": "python",
   "pygments_lexer": "ipython3",
   "version": "3.11.7"
  }
 },
 "nbformat": 4,
 "nbformat_minor": 2
}
